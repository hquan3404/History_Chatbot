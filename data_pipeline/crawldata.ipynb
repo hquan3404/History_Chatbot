{
 "cells": [
  {
   "cell_type": "code",
   "execution_count": null,
   "id": "1117a2a6",
   "metadata": {},
   "outputs": [
    {
     "name": "stdout",
     "output_type": "stream",
     "text": [
      "thanh cong\n"
     ]
    }
   ],
   "source": [
    "import requests\n",
    "from bs4 import BeautifulSoup\n",
    "\n",
    "\n",
    "url = \"https://archive.org/stream/lsvn_vsh_t13_2nd/L%E1%BB%8Bch%20s%E1%BB%AD%20Vi%E1%BB%87t%20Nam%20-%20T%E1%BA%ADp%2013%20-%20T%E1%BB%AB%20n%C4%83m%201965%20%C4%91%E1%BA%BFn%20n%C4%83m%201975%20%28t%C3%A1i%20b%E1%BA%A3n%20l%E1%BA%A7n%201%29%20-%20PGS%20TS%20NCVCC%20Nguy%E1%BB%85n%20V%C4%83n%20Nh%E1%BA%ADt%20%28Ch%E1%BB%A7%20bi%C3%AAn%29_djvu.txt\"\n",
    "response = requests.get(url)\n",
    "response.encoding = 'utf-8'\n",
    "# Parse HTML\n",
    "soup = BeautifulSoup(response.text, \"html.parser\")\n",
    "\n",
    "\n",
    "pre_tags = soup.find_all(\"pre\")\n",
    "\n",
    "\n",
    "texts = [tag.get_text() for tag in pre_tags]\n",
    "final_text = \"\\n\\n\".join(texts)\n",
    "\n",
    "with open(\"LSVN1965-1975.txt\", \"w\", encoding=\"utf-8\") as f:\n",
    "    f.write(final_text)\n",
    "\n",
    "print(\"thanh cong\")\n"
   ]
  }
 ],
 "metadata": {
  "kernelspec": {
   "display_name": "venv",
   "language": "python",
   "name": "python3"
  },
  "language_info": {
   "codemirror_mode": {
    "name": "ipython",
    "version": 3
   },
   "file_extension": ".py",
   "mimetype": "text/x-python",
   "name": "python",
   "nbconvert_exporter": "python",
   "pygments_lexer": "ipython3",
   "version": "3.13.5"
  }
 },
 "nbformat": 4,
 "nbformat_minor": 5
}
