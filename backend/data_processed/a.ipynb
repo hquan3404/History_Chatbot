{
 "cells": [
  {
   "cell_type": "code",
   "execution_count": 2,
   "id": "d633618c",
   "metadata": {},
   "outputs": [
    {
     "name": "stdout",
     "output_type": "stream",
     "text": [
      "Tổng số ký tự (char_count) là: 982173\n"
     ]
    }
   ],
   "source": [
    "import json\n",
    "\n",
    "def sum_char_count(json_path):\n",
    "    with open(json_path, 'r', encoding='utf-8') as f:\n",
    "        data = json.load(f)\n",
    "\n",
    "    def recursive_sum(obj):\n",
    "        total = 0\n",
    "        if isinstance(obj, dict):\n",
    "            for k, v in obj.items():\n",
    "                if k == 'char_count' and isinstance(v, (int, float)):\n",
    "                    total += v\n",
    "                else:\n",
    "                    total += recursive_sum(v)\n",
    "        elif isinstance(obj, list):\n",
    "            for item in obj:\n",
    "                total += recursive_sum(item)\n",
    "        return total\n",
    "\n",
    "    return recursive_sum(data)\n",
    "\n",
    "# --- Ví dụ sử dụng ---\n",
    "if __name__ == \"__main__\":\n",
    "    file_path = \"vietnam_history_chunks.json\"  # thay bằng đường dẫn file của bạn\n",
    "    total_chars = sum_char_count(file_path)\n",
    "    print(f\"Tổng số ký tự (char_count) là: {total_chars}\")\n"
   ]
  }
 ],
 "metadata": {
  "kernelspec": {
   "display_name": "venv",
   "language": "python",
   "name": "python3"
  },
  "language_info": {
   "codemirror_mode": {
    "name": "ipython",
    "version": 3
   },
   "file_extension": ".py",
   "mimetype": "text/x-python",
   "name": "python",
   "nbconvert_exporter": "python",
   "pygments_lexer": "ipython3",
   "version": "3.13.5"
  }
 },
 "nbformat": 4,
 "nbformat_minor": 5
}
